{
 "cells": [
  {
   "cell_type": "code",
   "execution_count": 13,
   "id": "08629f6f",
   "metadata": {},
   "outputs": [
    {
     "name": "stdout",
     "output_type": "stream",
     "text": [
      "[3, 7, 7]\n",
      "[10, 10, 14]\n"
     ]
    }
   ],
   "source": [
    "a=[[1,3,6],[7,4,5]]\n",
    "b=[[2,4,1],[3,6,9]]\n",
    "result =[[0,0,0],[0,0,0]]\n",
    "for i in range(len(a)):\n",
    "    for j in range(len(a[0])):\n",
    "        result[i][j]=a[i][j] +b[i][j]\n",
    "for r in result:\n",
    "    print(r)\n",
    "    \n",
    "                "
   ]
  },
  {
   "cell_type": "code",
   "execution_count": 2,
   "id": "ba20b48a",
   "metadata": {},
   "outputs": [
    {
     "name": "stdout",
     "output_type": "stream",
     "text": [
      "[1, 2, 3, 4, 5, 6]\n"
     ]
    }
   ],
   "source": [
    "# Question no 1\n",
    "empty_lst=[]\n",
    "lst1=[1,1,2,3,4,5,5,6]\n",
    "for i in lst1:\n",
    "    if i not in empty_lst:\n",
    "        empty_lst.append(i)\n",
    "        \n",
    "print(empty_lst)"
   ]
  },
  {
   "cell_type": "code",
   "execution_count": 3,
   "id": "2bce3024",
   "metadata": {},
   "outputs": [
    {
     "name": "stdout",
     "output_type": "stream",
     "text": [
      "[7, 14, 8]\n",
      "[6, 10, 12]\n"
     ]
    }
   ],
   "source": [
    "# Question no 2\n",
    "a=[[4,8,1],[2,9,6]]\n",
    "b=[[3,6,7],[4,1,6]]\n",
    "result=[[0,0,0],[0,0,0]]\n",
    "for i in range(len(a)):\n",
    "    for j in range(len(a[0])):\n",
    "        result[i][j]=a[i][j]+b[i][j]\n",
    "for r in result:\n",
    "    print(r)\n",
    "                                \n"
   ]
  },
  {
   "cell_type": "code",
   "execution_count": null,
   "id": "b98b58ba",
   "metadata": {},
   "outputs": [],
   "source": []
  }
 ],
 "metadata": {
  "kernelspec": {
   "display_name": "Python 3 (ipykernel)",
   "language": "python",
   "name": "python3"
  },
  "language_info": {
   "codemirror_mode": {
    "name": "ipython",
    "version": 3
   },
   "file_extension": ".py",
   "mimetype": "text/x-python",
   "name": "python",
   "nbconvert_exporter": "python",
   "pygments_lexer": "ipython3",
   "version": "3.11.5"
  }
 },
 "nbformat": 4,
 "nbformat_minor": 5
}
